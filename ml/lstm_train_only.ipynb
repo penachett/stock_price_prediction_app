{
 "cells": [
  {
   "cell_type": "code",
   "execution_count": 4,
   "id": "1c875bc4-2413-402a-9984-70fa9ef3a337",
   "metadata": {},
   "outputs": [],
   "source": [
    "import pandas as pd\n",
    "import numpy as np\n",
    "from sklearn.preprocessing import MinMaxScaler\n",
    "# scaler=MinMaxScaler(feature_range=(0,1))\n",
    "from keras.models import Sequential\n",
    "from keras.layers import LSTM,Dropout,Dense,SimpleRNN"
   ]
  },
  {
   "cell_type": "code",
   "execution_count": 48,
   "id": "0bd6e24a-a3d7-4abc-a25a-e1c428480040",
   "metadata": {},
   "outputs": [],
   "source": [
    "ticker = \"ko\"\n",
    "months = 6\n",
    "# aapl, msft, sber, mtss, moes, rosn, pfe, ko, intc, ma, ibm\n",
    "df=pd.read_csv(\"data/\" + ticker.upper() + \"_5Y.csv\")"
   ]
  },
  {
   "cell_type": "code",
   "execution_count": 49,
   "id": "d6662b66-50b1-4b89-b499-01f84b6b57fd",
   "metadata": {},
   "outputs": [],
   "source": [
    "MONTH_WORK_DAYS = 21\n",
    "days_watching = 6*MONTH_WORK_DAYS\n",
    "# if (months == 6):\n",
    "#     days_watching = 9*MONTH_WORK_DAYS\n",
    "    \n",
    "predict_days = months*MONTH_WORK_DAYS\n",
    "test_threshold = df.shape[0]"
   ]
  },
  {
   "cell_type": "code",
   "execution_count": 50,
   "id": "e7ed0a8f-e5ee-43f2-82bd-1a8024d36907",
   "metadata": {},
   "outputs": [],
   "source": [
    "data = df.sort_index(ascending=True,axis=0)\n",
    "df_new = pd.DataFrame(index=range(0,len(df)),columns=['Date','Close'])\n",
    "for i in range(0,len(data)):\n",
    "    df_new[\"Date\"][i] = data['Date'][i]\n",
    "    df_new[\"Close\"][i] = data[\"Close\"][i]\n",
    "    \n",
    "df_new.index = df_new.Date\n",
    "df_new.drop(\"Date\", axis=1, inplace=True)\n",
    "\n",
    "final_dataset = df_new.values\n",
    "\n",
    "train_data = final_dataset[0:test_threshold,:]\n",
    "\n",
    "scaler = MinMaxScaler(feature_range=(0,1))\n",
    "scaled_data = scaler.fit_transform(final_dataset)\n",
    "\n",
    "x_train_data,y_train_data = [],[]\n",
    "\n",
    "for i in range(days_watching,len(train_data)-predict_days):\n",
    "    x_train_data.append(scaled_data[i-days_watching:i,0])\n",
    "    y_train_data.append(scaled_data[i+predict_days,0])\n",
    "x_train_data,y_train_data = np.array(x_train_data),np.array(y_train_data)\n",
    "\n",
    "x_train_data = np.reshape(x_train_data,(x_train_data.shape[0],x_train_data.shape[1],1))"
   ]
  },
  {
   "cell_type": "code",
   "execution_count": 51,
   "id": "7288279b-088d-41b8-94e6-deb249229695",
   "metadata": {},
   "outputs": [
    {
     "name": "stdout",
     "output_type": "stream",
     "text": [
      "Epoch 1/30\n",
      "26/26 - 1s - loss: 0.0967\n",
      "Epoch 2/30\n",
      "26/26 - 1s - loss: 0.0382\n",
      "Epoch 3/30\n",
      "26/26 - 1s - loss: 0.0354\n",
      "Epoch 4/30\n",
      "26/26 - 1s - loss: 0.0338\n",
      "Epoch 5/30\n",
      "26/26 - 1s - loss: 0.0337\n",
      "Epoch 6/30\n",
      "26/26 - 1s - loss: 0.0334\n",
      "Epoch 7/30\n",
      "26/26 - 1s - loss: 0.0334\n",
      "Epoch 8/30\n",
      "26/26 - 1s - loss: 0.0333\n",
      "Epoch 9/30\n",
      "26/26 - 1s - loss: 0.0333\n",
      "Epoch 10/30\n",
      "26/26 - 1s - loss: 0.0332\n",
      "Epoch 11/30\n",
      "26/26 - 1s - loss: 0.0330\n",
      "Epoch 12/30\n",
      "26/26 - 1s - loss: 0.0329\n",
      "Epoch 13/30\n",
      "26/26 - 1s - loss: 0.0328\n",
      "Epoch 14/30\n",
      "26/26 - 1s - loss: 0.0327\n",
      "Epoch 15/30\n",
      "26/26 - 1s - loss: 0.0326\n",
      "Epoch 16/30\n",
      "26/26 - 1s - loss: 0.0325\n",
      "Epoch 17/30\n",
      "26/26 - 1s - loss: 0.0324\n",
      "Epoch 18/30\n",
      "26/26 - 1s - loss: 0.0323\n",
      "Epoch 19/30\n",
      "26/26 - 1s - loss: 0.0322\n",
      "Epoch 20/30\n",
      "26/26 - 1s - loss: 0.0321\n",
      "Epoch 21/30\n",
      "26/26 - 1s - loss: 0.0321\n",
      "Epoch 22/30\n",
      "26/26 - 1s - loss: 0.0320\n",
      "Epoch 23/30\n",
      "26/26 - 1s - loss: 0.0319\n",
      "Epoch 24/30\n",
      "26/26 - 1s - loss: 0.0318\n",
      "Epoch 25/30\n",
      "26/26 - 1s - loss: 0.0317\n",
      "Epoch 26/30\n",
      "26/26 - 1s - loss: 0.0316\n",
      "Epoch 27/30\n",
      "26/26 - 1s - loss: 0.0314\n",
      "Epoch 28/30\n",
      "26/26 - 1s - loss: 0.0313\n",
      "Epoch 29/30\n",
      "26/26 - 1s - loss: 0.0312\n",
      "Epoch 30/30\n",
      "26/26 - 1s - loss: 0.0321\n"
     ]
    }
   ],
   "source": [
    "lstm_model = Sequential()\n",
    "lstm_model.add(LSTM(units=50,return_sequences=False, input_shape=(x_train_data.shape[1],1)))\n",
    "# lstm_model.add(LSTM(units=50,return_sequences=False, input_shape=(x_train_data.shape[1],1)))\n",
    "# lstm_model.add(LSTM(units=128, return_sequences=True))\n",
    "# lstm_model.add(LSTM(units=64, return_sequences=False))\n",
    "lstm_model.add(Dense(1))\n",
    "lstm_model.compile(loss='mse',optimizer='adam')\n",
    "# lstm_model.compile(loss='mean_squared_error',optimizer='adam')\n",
    "lstm_model.fit(x_train_data,y_train_data,epochs=30,batch_size=40,verbose=2, shuffle=False)\n",
    "lstm_model.save(\"compiled_models/\" + ticker + \"_\" + str(months) + \"m.h5\")"
   ]
  },
  {
   "cell_type": "code",
   "execution_count": null,
   "id": "204f5e15-2e95-41d9-8b90-eceeec0380a7",
   "metadata": {},
   "outputs": [],
   "source": []
  },
  {
   "cell_type": "code",
   "execution_count": null,
   "id": "56e225aa-5e06-48dd-8d11-69d95ec41709",
   "metadata": {},
   "outputs": [],
   "source": []
  }
 ],
 "metadata": {
  "kernelspec": {
   "display_name": "Python 3",
   "language": "python",
   "name": "python3"
  },
  "language_info": {
   "codemirror_mode": {
    "name": "ipython",
    "version": 3
   },
   "file_extension": ".py",
   "mimetype": "text/x-python",
   "name": "python",
   "nbconvert_exporter": "python",
   "pygments_lexer": "ipython3",
   "version": "3.8.5"
  }
 },
 "nbformat": 4,
 "nbformat_minor": 5
}
