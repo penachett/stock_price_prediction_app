{
 "cells": [
  {
   "cell_type": "code",
   "execution_count": 1,
   "id": "1c875bc4-2413-402a-9984-70fa9ef3a337",
   "metadata": {},
   "outputs": [],
   "source": [
    "import pandas as pd\n",
    "import numpy as np\n",
    "from sklearn.preprocessing import MinMaxScaler\n",
    "# scaler=MinMaxScaler(feature_range=(0,1))\n",
    "from keras.models import Sequential\n",
    "from keras.layers import LSTM,Dropout,Dense,SimpleRNN"
   ]
  },
  {
   "cell_type": "code",
   "execution_count": 16,
   "id": "0bd6e24a-a3d7-4abc-a25a-e1c428480040",
   "metadata": {},
   "outputs": [
    {
     "name": "stdout",
     "output_type": "stream",
     "text": [
      "            Date        Open        High         Low       Close   Adj Close  \\\n",
      "1253  2021-05-24  116.669998  118.580002  114.699997  115.320000  115.320000   \n",
      "1254  2021-05-25  115.349998  120.019997  115.349998  119.040001  119.040001   \n",
      "1255  2021-05-26  119.620003  121.599998  118.209999  120.040001  120.040001   \n",
      "1256  2021-05-27  120.000000  121.970001  118.519997  121.500000  121.500000   \n",
      "1257  2021-05-28  122.300003  125.870003  118.010002  118.110001  118.110001   \n",
      "\n",
      "      Volume  \n",
      "1253  432400  \n",
      "1254  485600  \n",
      "1255  367800  \n",
      "1256  432400  \n",
      "1257  413100  \n"
     ]
    }
   ],
   "source": [
    "ticker = \"aapl\"\n",
    "months = 1\n",
    "# aapl, msft, sber, mtss, moes, rosn, pfe, ko, intc, ma, ibm, baba, five\n",
    "df=pd.read_csv(\"data/\" + ticker.upper() + \"_5Y.csv\")"
   ]
  },
  {
   "cell_type": "code",
   "execution_count": 19,
   "id": "d6662b66-50b1-4b89-b499-01f84b6b57fd",
   "metadata": {},
   "outputs": [
    {
     "name": "stdout",
     "output_type": "stream",
     "text": [
      "88.300003 85.709999 80.690002 88.970001 94.309998 103.639999 97.809998 97.809998 95.07 95.0 96.32 87.559998 93.690002 95.940002 98.889999 98.730003 101.699997 109.830002 107.870003 109.139999 112.940002 123.709999 125.07 134.600006 138.089996 134.190002 139.699997 139.0 139.240005 138.990005 141.190002 142.309998 153.479996 158.600006 208.949997 182.520004 178.600006 185.729996 197.270004 182.800003 186.050003 186.789993 180.699997 173.490005 160.800003 157.490005 167.220001 175.0 174.919998 168.600006 159.880005 156.889999 153.639999 156.320007 155.800003 166.759995 158.369995 171.800003 203.440002 207.240005 207.169998 208.039993 210.380005 209.869995 207.270004 200.5 207.880005 221.0 210.429993 223.740005 220.759995 227.039993 235.570007 224.979996 237.479996 244.960007 246.639999 234.509995 239.820007 246.179993 242.729996 267.0 261.390015 258.480011 263.75 257.23999 255.509995 259.679993 254.949997 259.470001 270.5 282.470001 293.820007 298.559998 301.959991 285.350006 272.76001 229.690002 229.589996 239.589996 249.369995 245.929993 247.240005 248.830002 241.080002 247.600006 241.520004 228.210007 232.899994 222.940002 174.559998 162.970001 175.960007 158.369995 167.800003 158.149994 154.410004 151.990005 152.699997 152.229996 161.190002 159.389999 162.419998 164.720001 170.75 189.309998 200.0 198.979996 196.210007 191.960007 196.770004 198.639999 215.0 219.380005 225.539993 235.339996 251.679993 250.0 277.820007 276.779999 278.049988 270.75 274.700012 270.609985 266.089996 255.25 257.690002 249.490005 241.979996 245.740005 248.210007 263.420013 273.600006 263.790009 268.779999 268.290009 248.410004 257.25 266.429993 281.799988 283.450012 203.660004 197.039993 214.419998 210.5 198.649994 190.740005 194.600006 187.279999 190.990005 187.190002 176.110001 174.440002 180.759995 188.0 195.050003 188.949997 198.979996 200.990005 193.570007 193.919998 195.369995 189.970001 197.089996 202.559998 206.929993 200.860001 193.139999 196.429993 189.5 205.449997 203.600006 200.009995 197.490005 183.240005 181.179993 184.910004 179.649994 190.279999 199.860001 204.070007 194.949997 198.550003 200.0 203.190002 197.940002 198.029999 204.490005 201.240005 212.580002 218.490005 233.610001 238.490005 226.179993 224.210007 227.300003 250.970001 254.0 233.830002 236.850006 228.679993 237.0 232.880005 236.380005 237.25 229.440002 227.970001 221.940002 217.789993 210.100006 182.589996 163.550003 167.419998 172.130005 166.149994 164.259995 166.839996 161.289993 151.600006 147.990005 151.300003 152.479996 155.880005 130.009995 134.330002 136.190002 141.059998 138.899994 142.800003 134.679993 137.130005 139.880005 136.860001 128.789993 126.129997 126.300003 123.190002 126.389999 127.93 130.309998 132.210007 130.210007 130.240005 128.330002 123.199997 127.300003 129.600006 129.240005 125.980003 128.830002 122.32 119.510002 119.010002 122.220001 116.010002 120.330002 115.019997 111.0 107.68 104.790001 108.559998 110.010002 112.5 108.540001 120.93 116.389999 114.720001 119.940002 116.5 118.209999 116.169998 116.989998 117.029999 120.559998 115.980003 115.32 119.040001 120.040001 121.5 118.110001 "
     ]
    }
   ],
   "source": [
    "MONTH_WORK_DAYS = 21\n",
    "days_watching = 6*MONTH_WORK_DAYS\n",
    "# if (months == 6):\n",
    "#     days_watching = 9*MONTH_WORK_DAYS\n",
    "    \n",
    "predict_days = months*MONTH_WORK_DAYS\n",
    "test_threshold = df.shape[0]"
   ]
  },
  {
   "cell_type": "code",
   "execution_count": 12,
   "id": "e7ed0a8f-e5ee-43f2-82bd-1a8024d36907",
   "metadata": {},
   "outputs": [],
   "source": [
    "data = df.sort_index(ascending=True,axis=0)\n",
    "df_new = pd.DataFrame(index=range(0,len(df)),columns=['Date','Close'])\n",
    "for i in range(0,len(data)):\n",
    "    df_new[\"Date\"][i] = data['Date'][i]\n",
    "    df_new[\"Close\"][i] = data[\"Close\"][i]\n",
    "    \n",
    "df_new.index = df_new.Date\n",
    "df_new.drop(\"Date\", axis=1, inplace=True)\n",
    "\n",
    "final_dataset = df_new.values\n",
    "\n",
    "train_data = final_dataset[0:test_threshold,:]\n",
    "\n",
    "scaler = MinMaxScaler(feature_range=(0,1))\n",
    "scaled_data = scaler.fit_transform(final_dataset)\n",
    "\n",
    "x_train_data,y_train_data = [],[]\n",
    "\n",
    "for i in range(days_watching,len(train_data)-predict_days):\n",
    "    x_train_data.append(scaled_data[i-days_watching:i,0])\n",
    "    y_train_data.append(scaled_data[i+predict_days,0])\n",
    "x_train_data,y_train_data = np.array(x_train_data),np.array(y_train_data)\n",
    "\n",
    "x_train_data = np.reshape(x_train_data,(x_train_data.shape[0],x_train_data.shape[1],1))"
   ]
  },
  {
   "cell_type": "code",
   "execution_count": 13,
   "id": "7288279b-088d-41b8-94e6-deb249229695",
   "metadata": {},
   "outputs": [
    {
     "name": "stdout",
     "output_type": "stream",
     "text": [
      "Epoch 1/30\n",
      "26/26 - 1s - loss: 0.0486\n",
      "Epoch 2/30\n",
      "26/26 - 1s - loss: 0.0456\n",
      "Epoch 3/30\n",
      "26/26 - 1s - loss: 0.0398\n",
      "Epoch 4/30\n",
      "26/26 - 1s - loss: 0.0399\n",
      "Epoch 5/30\n",
      "26/26 - 1s - loss: 0.0390\n",
      "Epoch 6/30\n",
      "26/26 - 1s - loss: 0.0388\n",
      "Epoch 7/30\n",
      "26/26 - 1s - loss: 0.0383\n",
      "Epoch 8/30\n",
      "26/26 - 1s - loss: 0.0380\n",
      "Epoch 9/30\n",
      "26/26 - 1s - loss: 0.0377\n",
      "Epoch 10/30\n",
      "26/26 - 1s - loss: 0.0374\n",
      "Epoch 11/30\n",
      "26/26 - 1s - loss: 0.0371\n",
      "Epoch 12/30\n",
      "26/26 - 1s - loss: 0.0368\n",
      "Epoch 13/30\n",
      "26/26 - 1s - loss: 0.0365\n",
      "Epoch 14/30\n",
      "26/26 - 1s - loss: 0.0361\n",
      "Epoch 15/30\n",
      "26/26 - 1s - loss: 0.0357\n",
      "Epoch 16/30\n",
      "26/26 - 1s - loss: 0.0355\n",
      "Epoch 17/30\n",
      "26/26 - 1s - loss: 0.0359\n",
      "Epoch 18/30\n",
      "26/26 - 1s - loss: 0.0362\n",
      "Epoch 19/30\n",
      "26/26 - 1s - loss: 0.0332\n",
      "Epoch 20/30\n",
      "26/26 - 1s - loss: 0.0452\n",
      "Epoch 21/30\n",
      "26/26 - 1s - loss: 0.0408\n",
      "Epoch 22/30\n",
      "26/26 - 1s - loss: 0.0353\n",
      "Epoch 23/30\n",
      "26/26 - 1s - loss: 0.0340\n",
      "Epoch 24/30\n",
      "26/26 - 1s - loss: 0.0343\n",
      "Epoch 25/30\n",
      "26/26 - 1s - loss: 0.0338\n",
      "Epoch 26/30\n",
      "26/26 - 1s - loss: 0.0333\n",
      "Epoch 27/30\n",
      "26/26 - 1s - loss: 0.0329\n",
      "Epoch 28/30\n",
      "26/26 - 1s - loss: 0.0326\n",
      "Epoch 29/30\n",
      "26/26 - 1s - loss: 0.0327\n",
      "Epoch 30/30\n",
      "26/26 - 1s - loss: 0.0326\n"
     ]
    }
   ],
   "source": [
    "lstm_model = Sequential()\n",
    "lstm_model.add(LSTM(units=50,return_sequences=False, input_shape=(x_train_data.shape[1],1)))\n",
    "# lstm_model.add(LSTM(units=50,return_sequences=False, input_shape=(x_train_data.shape[1],1)))\n",
    "# lstm_model.add(LSTM(units=128, return_sequences=True))\n",
    "# lstm_model.add(LSTM(units=64, return_sequences=False))\n",
    "lstm_model.add(Dense(1))\n",
    "lstm_model.compile(loss='mse',optimizer='adam')\n",
    "# lstm_model.compile(loss='mean_squared_error',optimizer='adam')\n",
    "lstm_model.fit(x_train_data,y_train_data,epochs=30,batch_size=40,verbose=2, shuffle=False)\n",
    "lstm_model.save(\"compiled_models/\" + ticker + \"_\" + str(months) + \"m.h5\")"
   ]
  },
  {
   "cell_type": "code",
   "execution_count": null,
   "id": "204f5e15-2e95-41d9-8b90-eceeec0380a7",
   "metadata": {},
   "outputs": [],
   "source": []
  },
  {
   "cell_type": "code",
   "execution_count": null,
   "id": "56e225aa-5e06-48dd-8d11-69d95ec41709",
   "metadata": {},
   "outputs": [],
   "source": []
  }
 ],
 "metadata": {
  "kernelspec": {
   "display_name": "Python 3",
   "language": "python",
   "name": "python3"
  },
  "language_info": {
   "codemirror_mode": {
    "name": "ipython",
    "version": 3
   },
   "file_extension": ".py",
   "mimetype": "text/x-python",
   "name": "python",
   "nbconvert_exporter": "python",
   "pygments_lexer": "ipython3",
   "version": "3.8.5"
  }
 },
 "nbformat": 4,
 "nbformat_minor": 5
}
