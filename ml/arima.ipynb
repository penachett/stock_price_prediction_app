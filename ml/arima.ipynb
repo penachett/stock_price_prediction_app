{
 "cells": [
  {
   "cell_type": "code",
   "execution_count": 10,
   "id": "b774891d-016c-4242-adf7-a96c06974962",
   "metadata": {},
   "outputs": [
    {
     "name": "stderr",
     "output_type": "stream",
     "text": [
      "<ipython-input-10-52ad8a786750>:5: FutureWarning: The pandas.datetime class is deprecated and will be removed from pandas in a future version. Import from datetime module instead.\n",
      "  from pandas import datetime\n"
     ]
    }
   ],
   "source": [
    "import numpy as np \n",
    "import pandas as pd \n",
    "import matplotlib.pyplot as plt\n",
    "from pandas.plotting import lag_plot\n",
    "from pandas import datetime\n",
    "from statsmodels.tsa.arima.model import ARIMA\n",
    "from sklearn.metrics import mean_squared_error"
   ]
  },
  {
   "cell_type": "code",
   "execution_count": 11,
   "id": "d46da756-a906-4e7d-89d5-2b7a76785ddd",
   "metadata": {},
   "outputs": [
    {
     "data": {
      "text/html": [
       "<div>\n",
       "<style scoped>\n",
       "    .dataframe tbody tr th:only-of-type {\n",
       "        vertical-align: middle;\n",
       "    }\n",
       "\n",
       "    .dataframe tbody tr th {\n",
       "        vertical-align: top;\n",
       "    }\n",
       "\n",
       "    .dataframe thead th {\n",
       "        text-align: right;\n",
       "    }\n",
       "</style>\n",
       "<table border=\"1\" class=\"dataframe\">\n",
       "  <thead>\n",
       "    <tr style=\"text-align: right;\">\n",
       "      <th></th>\n",
       "      <th>Date</th>\n",
       "      <th>Open</th>\n",
       "      <th>High</th>\n",
       "      <th>Low</th>\n",
       "      <th>Close</th>\n",
       "      <th>Adj Close</th>\n",
       "      <th>Volume</th>\n",
       "    </tr>\n",
       "  </thead>\n",
       "  <tbody>\n",
       "    <tr>\n",
       "      <th>0</th>\n",
       "      <td>2016-04-21</td>\n",
       "      <td>26.732500</td>\n",
       "      <td>26.732500</td>\n",
       "      <td>26.379999</td>\n",
       "      <td>26.4925</td>\n",
       "      <td>24.640911</td>\n",
       "      <td>126210000</td>\n",
       "    </tr>\n",
       "    <tr>\n",
       "      <th>1</th>\n",
       "      <td>2016-04-22</td>\n",
       "      <td>26.252501</td>\n",
       "      <td>26.620001</td>\n",
       "      <td>26.155001</td>\n",
       "      <td>26.4200</td>\n",
       "      <td>24.573479</td>\n",
       "      <td>134732400</td>\n",
       "    </tr>\n",
       "    <tr>\n",
       "      <th>2</th>\n",
       "      <td>2016-04-25</td>\n",
       "      <td>26.250000</td>\n",
       "      <td>26.412500</td>\n",
       "      <td>26.127501</td>\n",
       "      <td>26.2700</td>\n",
       "      <td>24.433960</td>\n",
       "      <td>112126400</td>\n",
       "    </tr>\n",
       "    <tr>\n",
       "      <th>3</th>\n",
       "      <td>2016-04-26</td>\n",
       "      <td>25.977501</td>\n",
       "      <td>26.325001</td>\n",
       "      <td>25.977501</td>\n",
       "      <td>26.0875</td>\n",
       "      <td>24.264212</td>\n",
       "      <td>224064800</td>\n",
       "    </tr>\n",
       "    <tr>\n",
       "      <th>4</th>\n",
       "      <td>2016-04-27</td>\n",
       "      <td>24.000000</td>\n",
       "      <td>24.677500</td>\n",
       "      <td>23.920000</td>\n",
       "      <td>24.4550</td>\n",
       "      <td>22.745811</td>\n",
       "      <td>458408400</td>\n",
       "    </tr>\n",
       "  </tbody>\n",
       "</table>\n",
       "</div>"
      ],
      "text/plain": [
       "         Date       Open       High        Low    Close  Adj Close     Volume\n",
       "0  2016-04-21  26.732500  26.732500  26.379999  26.4925  24.640911  126210000\n",
       "1  2016-04-22  26.252501  26.620001  26.155001  26.4200  24.573479  134732400\n",
       "2  2016-04-25  26.250000  26.412500  26.127501  26.2700  24.433960  112126400\n",
       "3  2016-04-26  25.977501  26.325001  25.977501  26.0875  24.264212  224064800\n",
       "4  2016-04-27  24.000000  24.677500  23.920000  24.4550  22.745811  458408400"
      ]
     },
     "execution_count": 11,
     "metadata": {},
     "output_type": "execute_result"
    }
   ],
   "source": [
    "df = pd.read_csv(\"AAPL_5Y.csv\").fillna(0)\n",
    "df.head()"
   ]
  },
  {
   "cell_type": "code",
   "execution_count": 30,
   "id": "a8f41ac5-60f8-44e0-81a9-e1e20a6cee08",
   "metadata": {},
   "outputs": [
    {
     "name": "stdout",
     "output_type": "stream",
     "text": [
      "0\n",
      "10\n",
      "20\n",
      "30\n",
      "40\n",
      "50\n",
      "60\n",
      "70\n",
      "80\n",
      "90\n",
      "100\n",
      "110\n",
      "120\n",
      "130\n",
      "140\n",
      "150\n",
      "160\n",
      "170\n"
     ]
    }
   ],
   "source": [
    "predict_days = 180\n",
    "train_data, test_data = df[0:-predict_days], df[-predict_days:]\n",
    "train_ar = train_data['Close'].values\n",
    "test_ar = test_data['Close'].values\n",
    "history = [x for x in train_ar]\n",
    "predictions = list()\n",
    "for i in range(len(test_ar)):\n",
    "    model = ARIMA(history, order=(4,1,0))\n",
    "    model_fit = model.fit()\n",
    "    output = model_fit.forecast()\n",
    "    predicted = output[0]\n",
    "    predictions.append(predicted)\n",
    "    obs = test_ar[i]\n",
    "    history.append(predicted)\n",
    "#     print(predicted, obs)\n",
    "    if i % 10 == 0:\n",
    "        print(i)\n",
    "# error = mean_squared_error(test_ar, predictions)\n",
    "# print('Testing Mean Squared Error: %.3f' % error)"
   ]
  },
  {
   "cell_type": "code",
   "execution_count": 31,
   "id": "90b40088-3995-462a-9e95-d5af52922326",
   "metadata": {},
   "outputs": [
    {
     "data": {
      "text/plain": [
       "<matplotlib.legend.Legend at 0x7f8054814bb0>"
      ]
     },
     "execution_count": 31,
     "metadata": {},
     "output_type": "execute_result"
    },
    {
     "data": {
      "image/png": "[encoded data removed]",
      "text/plain": [
       "<Figure size 864x504 with 1 Axes>"
      ]
     },
     "metadata": {
      "needs_background": "light"
     },
     "output_type": "display_data"
    }
   ],
   "source": [
    "plt.figure(figsize=(12,7))\n",
    "plt.plot(df['Close'])\n",
    "plt.plot(test_data.index, predictions, color='green')\n",
    "plt.plot(test_data.index, test_data['Close'], color='red')\n",
    "plt.title('Stock', fontsize=18)\n",
    "plt.xlabel('Time',fontsize=18)\n",
    "plt.ylabel('Price ($)',fontsize=18)\n",
    "plt.legend(['Train', 'Prediction', 'Real'], loc='lower right')"
   ]
  },
  {
   "cell_type": "code",
   "execution_count": null,
   "id": "a8648aff-bd2a-42cb-962b-508acc9f7930",
   "metadata": {},
   "outputs": [],
   "source": []
  }
 ],
 "metadata": {
  "kernelspec": {
   "display_name": "Python 3",
   "language": "python",
   "name": "python3"
  },
  "language_info": {
   "codemirror_mode": {
    "name": "ipython",
    "version": 3
   },
   "file_extension": ".py",
   "mimetype": "text/x-python",
   "name": "python",
   "nbconvert_exporter": "python",
   "pygments_lexer": "ipython3",
   "version": "3.8.5"
  }
 },
 "nbformat": 4,
 "nbformat_minor": 5
}
